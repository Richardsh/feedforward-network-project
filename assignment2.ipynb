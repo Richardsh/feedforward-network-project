{
 "cells": [
  {
   "cell_type": "markdown",
   "metadata": {},
   "source": [
    "# [COM4513-6513] Assignment 2: Text Classification with a Feedforward Network\n",
    "\n",
    "\n",
    "### Instructor: Nikos Aletras\n",
    "\n",
    "\n",
    "The goal of this assignment is to develop a Feedforward network for text classification. \n",
    "\n",
    "\n",
    "\n",
    "For that purpose, you will implement:\n",
    "\n",
    "- Text processing methods for transforming raw text data into input vectors for your network  (**1 mark**)\n",
    "- A Feedforward network consisting of:\n",
    "    - **One-hot** input layer mapping words into an **Embedding weight matrix** (**1 mark**)\n",
    "    - **One hidden layer** computing the mean embedding vector of all words in input followed by a **ReLU activation function** (**1 mark**)\n",
    "    - **Output layer** with a **softmax** activation. (**1 mark**)\n",
    "- The Stochastic Gradient Descent (SGD) algorithm with **back-propagation** to learn the weights of your Neural network. Your algorithm should:\n",
    "    - Use (and minimise) the **Categorical Cross-entropy loss** function (**1 mark**)\n",
    "    - Perform a **Forward pass** to compute intermediate outputs (**4 marks**)\n",
    "    - Perform a **Backward pass** to compute gradients and update all sets of weights (**4 marks**)\n",
    "    - Implement and use **Dropout** after each hidden layer for regularisation (**2 marks**)\n",
    "- Discuss how did you choose hyperparameters? You can tune the learning rate (hint: choose small values), embedding size {e.g. 50, 300, 500}, the dropout rate {e.g. 0.2, 0.5} and the learning rate. Please use tables or graphs to show training and validation performance for each hyperparam combination  (**2 marks**). \n",
    "- After training the model, plot the learning process (i.e. training and validation loss in each epoch) using a line plot and report accuracy.\n",
    "- Re-train your network by using pre-trained embeddings ([GloVe](https://nlp.stanford.edu/projects/glove/)) trained on large corpora. Instead of randomly initialising the embedding weights matrix, you should initialise it with the pre-trained weights. During training, you should not update them (i.e. weight freezing) and backprop should stop before computing gradients for updating embedding weights. Report results by performing hyperparameter tuning and plotting the learning process. Do you get better performance? (**3 marks**).\n",
    "\n",
    "- **BONUS:** Extend you Feedforward network by adding more hidden layers (e.g. one more). How does it affect the performance? Note: You need to repeat hyperparameter tuning, but the number of combinations grows exponentially. Therefore, you need to choose a subset of all possible combinations (**+2 extra marks**)\n",
    "\n",
    "\n",
    "\n",
    "### Data \n",
    "\n",
    "The data you will use for Task 2 is a subset of the [AG News Corpus](http://groups.di.unipi.it/~gulli/AG_corpus_of_news_articles.html) and you can find it in the `./data_topic` folder in CSV format:\n",
    "\n",
    "- `data_topic/train.csv`: contains 2,400 news articles, 800 for each class to be used for training.\n",
    "- `data_topic/dev.csv`: contains 150 news articles, 50 for each class to be used for hyperparameter selection and monitoring the training process.\n",
    "- `data_topic/test.csv`: contains 900 news articles, 300 for each class to be used for testing.\n",
    "\n",
    "### Pre-trained Embeddings\n",
    "\n",
    "You can download pre-trained GloVe embeddings trained on Common Crawl (840B tokens, 2.2M vocab, cased, 300d vectors, 2.03 GB download) from [here](http://nlp.stanford.edu/data/glove.840B.300d.zip). No need to unzip, the file is large.\n",
    "\n",
    "### Save Memory\n",
    "\n",
    "To save RAM, when you finish each experiment you can delete the weights of your network using `del W` followed by Python's garbage collector `gc.collect()`\n",
    "\n",
    "\n",
    "\n",
    "\n",
    "### Submission Instructions\n",
    "\n",
    "You should submit a Jupyter Notebook file (assignment2.ipynb) and an exported PDF version (you can do it from Jupyter: `File->Download as->PDF via Latex`).\n",
    "\n",
    "You are advised to follow the code structure given in this notebook by completing all given funtions. You can also write any auxilliary/helper functions (and arguments for the functions) that you might need but note that you can provide a full solution without any such functions. Similarly, you can just use only the packages imported below but you are free to use any functionality from the [Python Standard Library](https://docs.python.org/2/library/index.html), NumPy, SciPy and Pandas. You are not allowed to use any third-party library such as Scikit-learn (apart from metric functions already provided), NLTK, Spacy, Keras etc.. You are allowed to re-use your code from Assignment 1.\n",
    "\n",
    "Please make sure to comment your code. You should also mention if you've used Windows to write and test your code. There is no single correct answer on what your accuracy should be, but correct implementations usually achieve F1 of ~75-80% and ~85% without and with using pre-trained embeddings respectively. \n",
    "\n",
    "This assignment will be marked out of 20. It is worth 20\\% of your final grade in the module. If you implement the bonus question you can get up to 2 extra points but your final grade will be capped at 20.\n",
    "\n",
    "The deadline for this assignment is **23:59 on Mon, 18 May 2020** and it needs to be submitted via Blackboard (MOLE). Standard departmental penalties for lateness will be applied. We use a range of strategies to detect [unfair means](https://www.sheffield.ac.uk/ssid/unfair-means/index), including Turnitin which helps detect plagiarism, so make sure you do not plagiarise.\n",
    "\n"
   ]
  },
  {
   "cell_type": "code",
   "execution_count": 164,
   "metadata": {
    "ExecuteTime": {
     "end_time": "2020-04-02T15:00:18.625532Z",
     "start_time": "2020-04-02T15:00:17.377733Z"
    }
   },
   "outputs": [],
   "source": [
    "import pandas as pd\n",
    "import numpy as np\n",
    "from collections import Counter\n",
    "import re\n",
    "import matplotlib.pyplot as plt\n",
    "from sklearn.metrics import accuracy_score, precision_score, recall_score, f1_score\n",
    "import random\n",
    "from time import localtime, strftime\n",
    "from scipy.stats import spearmanr,pearsonr\n",
    "import zipfile\n",
    "import gc\n",
    "\n",
    "# fixing random seed for reproducibility\n",
    "random.seed(123)\n",
    "np.random.seed(123)"
   ]
  },
  {
   "cell_type": "markdown",
   "metadata": {},
   "source": [
    "## Transform Raw texts into training and development data\n",
    "\n",
    "First, you need to load the training, development and test sets from their corresponding CSV files (tip: you can use Pandas dataframes)."
   ]
  },
  {
   "cell_type": "code",
   "execution_count": 165,
   "metadata": {
    "ExecuteTime": {
     "end_time": "2020-04-02T14:26:39.748484Z",
     "start_time": "2020-04-02T14:26:39.727404Z"
    }
   },
   "outputs": [],
   "source": [
    "# load datasets\n",
    "train_csv = pd.read_csv('data_topic/train.csv',header=None)\n",
    "dev_csv = pd.read_csv('data_topic/dev.csv',header=None)\n",
    "test_csv = pd.read_csv('data_topic/test.csv',header=None)"
   ]
  },
  {
   "cell_type": "code",
   "execution_count": 166,
   "metadata": {
    "ExecuteTime": {
     "end_time": "2020-04-02T14:26:39.753874Z",
     "start_time": "2020-04-02T14:26:39.749647Z"
    }
   },
   "outputs": [],
   "source": [
    "# transform class labels into Python lists\n",
    "train_list=train_csv[1].tolist()\n",
    "dev_list=dev_csv[1].tolist()\n",
    "test_list=test_csv[1].tolist()"
   ]
  },
  {
   "cell_type": "markdown",
   "metadata": {},
   "source": [
    "# Create input representations\n",
    "\n",
    "\n",
    "To train your Feedforward network, you first need to obtain input representations given a vocabulary. One-hot encoding requires large memory capacity. Therefore, we will instead represent documents as lists of vocabulary indices (each word corresponds to a vocabulary index). \n",
    "\n",
    "\n",
    "## Text Pre-Processing Pipeline\n",
    "\n",
    "To obtain a vocabulary of words. You should: \n",
    "- tokenise all texts into a list of unigrams (tip: you can re-use the functions from Assignment 1) \n",
    "- remove stop words (using the one provided or one of your preference) \n",
    "- remove unigrams appearing in less than K documents\n",
    "- use the remaining to create a vocabulary of the top-N most frequent unigrams in the entire corpus.\n"
   ]
  },
  {
   "cell_type": "code",
   "execution_count": 167,
   "metadata": {
    "ExecuteTime": {
     "end_time": "2020-04-02T14:26:40.851926Z",
     "start_time": "2020-04-02T14:26:40.847500Z"
    }
   },
   "outputs": [],
   "source": [
    "stop_words = ['a','in','on','at','and','or', \n",
    "              'to', 'the', 'of', 'an', 'by', \n",
    "              'as', 'is', 'was', 'were', 'been', 'be', \n",
    "              'are','for', 'this', 'that', 'these', 'those', 'you', 'i', 'if',\n",
    "             'it', 'he', 'she', 'we', 'they', 'will', 'have', 'has',\n",
    "              'do', 'did', 'can', 'could', 'who', 'which', 'what',\n",
    "              'but', 'not', 'there', 'no', 'does', 'not', 'so', 've', 'their',\n",
    "             'his', 'her', 'they', 'them', 'from', 'with', 'its']\n"
   ]
  },
  {
   "cell_type": "markdown",
   "metadata": {},
   "source": [
    "### Unigram extraction from a document\n",
    "\n",
    "You first need to implement the `extract_ngrams` function. It takes as input:\n",
    "- `x_raw`: a string corresponding to the raw text of a document\n",
    "- `ngram_range`: a tuple of two integers denoting the type of ngrams you want to extract, e.g. (1,2) denotes extracting unigrams and bigrams.\n",
    "- `token_pattern`: a string to be used within a regular expression to extract all tokens. Note that data is already tokenised so you could opt for a simple white space tokenisation.\n",
    "- `stop_words`: a list of stop words\n",
    "- `vocab`: a given vocabulary. It should be used to extract specific features.\n",
    "\n",
    "and returns:\n",
    "\n",
    "- a list of all extracted features.\n"
   ]
  },
  {
   "cell_type": "code",
   "execution_count": 168,
   "metadata": {
    "ExecuteTime": {
     "end_time": "2020-04-02T14:26:41.505459Z",
     "start_time": "2020-04-02T14:26:41.498388Z"
    }
   },
   "outputs": [],
   "source": [
    "import re\n",
    "def extract_ngrams(x_raw, ngram_range=(1,3), token_pattern=r'\\b[A-Za-z][A-Za-z]+\\b', stop_words=[], vocab=set()):\n",
    "    # use regular expression to fina all tokens\n",
    "    wordRE = re.compile(token_pattern)\n",
    "    raw_list = wordRE.findall(str(x_raw))\n",
    "    # remove stop words\n",
    "    dealed_list = []\n",
    "    for word in raw_list:\n",
    "        if word.lower() not in stop_words:\n",
    "            dealed_list.append(word.lower())\n",
    "    x = []\n",
    "    # a function used for extracting grams \n",
    "    def getCurGrams(dealed_list, n):\n",
    "        output = []\n",
    "        if n == 3:\n",
    "            for i in range(0, len(dealed_list)-2):\n",
    "                output.append((dealed_list[i],dealed_list[i+1],dealed_list[i+2]))\n",
    "        elif n == 2:\n",
    "            for i in range(0, len(dealed_list)-1):\n",
    "                output.append((dealed_list[i],dealed_list[i+1]))\n",
    "        else:\n",
    "            for i in range(0, len(dealed_list)):\n",
    "                output.append(dealed_list[i])\n",
    "        return output\n",
    "    # extract all grams\n",
    "    for gram in range(ngram_range[0],ngram_range[1]+1):\n",
    "        x += getCurGrams(dealed_list, gram)\n",
    "    # remove grams which are not in the vocab\n",
    "    if vocab:\n",
    "        remove_x = []\n",
    "        for ele in x:\n",
    "            if ele not in list(vocab):\n",
    "                remove_x.append(ele)\n",
    "        for ele in remove_x:\n",
    "            x.remove(ele)\n",
    "    return x\n"
   ]
  },
  {
   "cell_type": "markdown",
   "metadata": {},
   "source": [
    "### Create a vocabulary of n-grams\n",
    "\n",
    "Then the `get_vocab` function will be used to (1) create a vocabulary of ngrams; (2) count the document frequencies of ngrams; (3) their raw frequency. It takes as input:\n",
    "- `X_raw`: a list of strings each corresponding to the raw text of a document\n",
    "- `ngram_range`: a tuple of two integers denoting the type of ngrams you want to extract, e.g. (1,2) denotes extracting unigrams and bigrams.\n",
    "- `token_pattern`: a string to be used within a regular expression to extract all tokens. Note that data is already tokenised so you could opt for a simple white space tokenisation.\n",
    "- `stop_words`: a list of stop words\n",
    "- `min_df`: keep ngrams with a minimum document frequency.\n",
    "- `keep_topN`: keep top-N more frequent ngrams.\n",
    "\n",
    "and returns:\n",
    "\n",
    "- `vocab`: a set of the n-grams that will be used as features.\n",
    "- `df`: a Counter (or dict) that contains ngrams as keys and their corresponding document frequency as values.\n",
    "- `ngram_counts`: counts of each ngram in vocab\n"
   ]
  },
  {
   "cell_type": "code",
   "execution_count": 169,
   "metadata": {
    "ExecuteTime": {
     "end_time": "2020-04-02T14:26:42.563876Z",
     "start_time": "2020-04-02T14:26:42.557967Z"
    }
   },
   "outputs": [],
   "source": [
    "from collections import Counter\n",
    "def get_vocab(X_raw, ngram_range=(1,3), token_pattern=r'\\b[A-Za-z][A-Za-z]+\\b', \n",
    "              min_df=0, keep_topN=0, stop_words=[]):\n",
    "    vocab_raw_df = [] # a list used to store all the grams, each text's grams are unique\n",
    "    whole_corpus = [] # a list used to store the whole corpus's grams\n",
    "    for doc in X_raw:\n",
    "        # cur_str is the whole raw string of a text\n",
    "        cur_str = ''\n",
    "        cur_str_whole = ''\n",
    "        for line in doc:\n",
    "            cur_str += str(line)\n",
    "            cur_str_whole += str(line)\n",
    "        # To get all the ngrams, we can use set() to make sure that every text has no same ngram \n",
    "        # and it is the basis of counting the document frequency with \"Counter\"\n",
    "        vocab_raw_df += list(set(extract_ngrams(cur_str, ngram_range, stop_words=stop_words)))\n",
    "        whole_corpus += extract_ngrams(cur_str, ngram_range, stop_words=stop_words)\n",
    "        \n",
    "    # define a Counter\n",
    "    df = Counter(vocab_raw_df)\n",
    "    if keep_topN and keep_topN > 0:\n",
    "        vocab_counts = df.most_common(keep_topN)\n",
    "    else:\n",
    "        vocab_counts = df.most_common()\n",
    "    # filter to get those grams whose counts are greater than min_df\n",
    "    if (min_df and min_df > 1):\n",
    "        vocab_counts = list(filter(lambda x:x[1] >= min_df, vocab_counts))\n",
    "\n",
    "    vocab = set(dict(vocab_counts).keys())\n",
    "    # initiate the ngram_counts with 0\n",
    "    ngram_counts = dict.fromkeys(vocab,0)\n",
    "    for doc in whole_corpus:\n",
    "        for ngram in doc:\n",
    "            if ngram in vocab:\n",
    "                # count each gram in whole corpus\n",
    "                ngram_counts[ngram] += 1\n",
    "    \n",
    "    return vocab, df, ngram_counts"
   ]
  },
  {
   "cell_type": "markdown",
   "metadata": {},
   "source": [
    "Now you should use `get_vocab` to create your vocabulary and get document and raw frequencies of unigrams:"
   ]
  },
  {
   "cell_type": "code",
   "execution_count": 170,
   "metadata": {
    "ExecuteTime": {
     "end_time": "2020-04-02T14:26:43.577997Z",
     "start_time": "2020-04-02T14:26:43.478950Z"
    }
   },
   "outputs": [
    {
     "name": "stdout",
     "output_type": "stream",
     "text": [
      "8931\n",
      "\n",
      "['greeks', 'loosehead', 'sumer', 'far', 'vento', 'hebei', 'ferrero', 'kupets', 'clung', 'duties', 'mattered', 'places', 'shocking', 'beer', 'eked', 'specially', 'hover', 'appearances', 'trigger', 'afghanistan', 'architects', 'xm', 'card', 'golden', 'maytag', 'plot', 'newcastle', 'burglarized', 'passed', 'homosexual', 'gap', 'eurostat', 'neglected', 'pulling', 'desk', 'finance', 'slower', 'drawing', 'nationally', 'attacked', 'chambers', 'artistic', 'gmb', 'risks', 'testament', 'lesage', 'arrived', 'sidewalks', 'scott', 'elisa', 'classics', 'pierce', 'hamilton', 'lafrentz', 'engineered', 'saw', 'residency', 'tenth', 'parent', 'song', 'seem', 'translator', 'howling', 'cartoon', 'tchaikovsky', 'famed', 'autodesk', 'induced', 'invest', 'dispute', 'purchase', 'fifty', 'increases', 'spilled', 'shoppers', 'medalists', 'impending', 'hundreds', 'anniversary', 'around', 'twins', 'honors', 'investments', 'identify', 'forensic', 'sven', 'single', 'rumors', 'manslaughter', 'stabbed', 'actually', 'alyce', 'gives', 'network', 'extend', 'calf', 'singles', 'regional', 'utilities', 'away']\n",
      "\n",
      "[('reuters', 631), ('said', 432), ('tuesday', 413), ('wednesday', 344), ('new', 325), ('after', 295), ('ap', 275), ('athens', 245), ('monday', 221), ('first', 210)]\n"
     ]
    }
   ],
   "source": [
    "vocab, df, ngram_counts = get_vocab(train_list, ngram_range=(1,1), stop_words=stop_words)\n",
    "print(len(vocab))\n",
    "print()\n",
    "print(list(vocab)[:100])\n",
    "print()\n",
    "print(df.most_common()[:10])"
   ]
  },
  {
   "cell_type": "markdown",
   "metadata": {},
   "source": [
    "Then, you need to create vocabulary id -> word and id -> word dictionaries for reference:"
   ]
  },
  {
   "cell_type": "code",
   "execution_count": 171,
   "metadata": {
    "ExecuteTime": {
     "end_time": "2020-04-02T14:26:44.069661Z",
     "start_time": "2020-04-02T14:26:44.065058Z"
    }
   },
   "outputs": [],
   "source": [
    "vocab_dict = {}\n",
    "for i, gram in enumerate(vocab):\n",
    "    vocab_dict[gram] = i"
   ]
  },
  {
   "cell_type": "markdown",
   "metadata": {},
   "source": [
    "### Convert the list of unigrams  into a list of vocabulary indices"
   ]
  },
  {
   "cell_type": "markdown",
   "metadata": {},
   "source": [
    "Storing actual one-hot vectors into memory for all words in the entire data set is prohibitive. Instead, we will store word indices in the vocabulary and look-up the weight matrix. This is equivalent of doing a dot product between an one-hot vector and the weight matrix. \n",
    "\n",
    "First, represent documents in train, dev and test sets as lists of words in the vocabulary:"
   ]
  },
  {
   "cell_type": "code",
   "execution_count": 172,
   "metadata": {
    "ExecuteTime": {
     "end_time": "2020-04-02T14:26:45.047887Z",
     "start_time": "2020-04-02T14:26:44.920631Z"
    }
   },
   "outputs": [],
   "source": [
    "def representDocuments(X_raw, token_pattern=r'\\b[A-Za-z][A-Za-z]+\\b'):\n",
    "    voc_list = []\n",
    "    for doc in X_raw:\n",
    "        wordRE = re.compile(token_pattern)\n",
    "        # get all unigrams\n",
    "        raw_list = wordRE.findall(str(doc)) \n",
    "        dealed_list = []\n",
    "        for word in raw_list:\n",
    "            if word.lower() not in stop_words:\n",
    "                dealed_list.append(word.lower())\n",
    "        voc_list.append(dealed_list)\n",
    "    return voc_list"
   ]
  },
  {
   "cell_type": "code",
   "execution_count": 173,
   "metadata": {},
   "outputs": [
    {
     "data": {
      "text/plain": [
       "['reuters',\n",
       " 'venezuelans',\n",
       " 'turned',\n",
       " 'out',\n",
       " 'early',\n",
       " 'large',\n",
       " 'numbers',\n",
       " 'sunday',\n",
       " 'vote',\n",
       " 'historic',\n",
       " 'referendum',\n",
       " 'either',\n",
       " 'remove',\n",
       " 'left',\n",
       " 'wing',\n",
       " 'president',\n",
       " 'hugo',\n",
       " 'chavez',\n",
       " 'office',\n",
       " 'give',\n",
       " 'him',\n",
       " 'new',\n",
       " 'mandate',\n",
       " 'govern',\n",
       " 'next',\n",
       " 'two',\n",
       " 'years']"
      ]
     },
     "execution_count": 173,
     "metadata": {},
     "output_type": "execute_result"
    }
   ],
   "source": [
    "# use unigrams to represent documents in train, dev and test sets\n",
    "X_uni_tr = representDocuments(train_list)\n",
    "X_uni_dev = representDocuments(dev_list)\n",
    "X_uni_test = representDocuments(test_list)\n",
    "X_uni_tr[0]"
   ]
  },
  {
   "cell_type": "markdown",
   "metadata": {},
   "source": [
    "Then convert them into lists of indices in the vocabulary:"
   ]
  },
  {
   "cell_type": "code",
   "execution_count": 174,
   "metadata": {
    "ExecuteTime": {
     "end_time": "2020-04-02T14:26:45.752658Z",
     "start_time": "2020-04-02T14:26:45.730409Z"
    }
   },
   "outputs": [],
   "source": [
    "def getIndices(vob_list):\n",
    "    x_list = []\n",
    "    for doc in vob_list:\n",
    "        cur_indices = []\n",
    "        for vob in doc:\n",
    "            if vob in vocab_dict.keys():\n",
    "                cur_indices.append(vocab_dict[vob])\n",
    "        x_list.append(cur_indices)\n",
    "    return x_list      "
   ]
  },
  {
   "cell_type": "code",
   "execution_count": 175,
   "metadata": {},
   "outputs": [
    {
     "data": {
      "text/plain": [
       "[5674,\n",
       " 5644,\n",
       " 1893,\n",
       " 6745,\n",
       " 7636,\n",
       " 1162,\n",
       " 2536,\n",
       " 4155,\n",
       " 6894,\n",
       " 6437,\n",
       " 4414,\n",
       " 6721,\n",
       " 8858,\n",
       " 2954,\n",
       " 3061,\n",
       " 2334,\n",
       " 1443]"
      ]
     },
     "execution_count": 175,
     "metadata": {},
     "output_type": "execute_result"
    }
   ],
   "source": [
    "# use unigrams' indices to represent documents in train, dev and test sets\n",
    "X_tr = getIndices(X_uni_tr)\n",
    "X_dev = getIndices(X_uni_dev)\n",
    "X_test = getIndices(X_uni_test)\n",
    "X_tr[0]"
   ]
  },
  {
   "cell_type": "markdown",
   "metadata": {},
   "source": [
    "Put the labels `Y` for train, dev and test sets into arrays: "
   ]
  },
  {
   "cell_type": "code",
   "execution_count": 176,
   "metadata": {
    "ExecuteTime": {
     "end_time": "2020-04-02T15:03:13.183996Z",
     "start_time": "2020-04-02T15:03:13.077575Z"
    }
   },
   "outputs": [
    {
     "data": {
      "text/plain": [
       "(2400,)"
      ]
     },
     "execution_count": 176,
     "metadata": {},
     "output_type": "execute_result"
    }
   ],
   "source": [
    "Y_tr = np.array(train_csv[0])\n",
    "Y_dev = np.array(dev_csv[0])\n",
    "Y_test = np.array(test_csv[0])"
   ]
  },
  {
   "cell_type": "markdown",
   "metadata": {},
   "source": [
    "# Network Architecture\n",
    "\n",
    "Your network should pass each word index into its corresponding embedding by looking-up on the embedding matrix and then compute the first hidden layer $\\mathbf{h}_1$:\n",
    "\n",
    "$$\\mathbf{h}_1 = \\frac{1}{|x|}\\sum_i W^e_i, i \\in x$$\n",
    "\n",
    "where $|x|$ is the number of words in the document and $W^e$ is an embedding matrix $|V|\\times d$, $|V|$ is the size of the vocabulary and $d$ the embedding size.\n",
    "\n",
    "Then $\\mathbf{h}_1$ should be passed through a ReLU activation function:\n",
    "\n",
    "$$\\mathbf{a}_1 = relu(\\mathbf{h}_1)$$\n",
    "\n",
    "Finally the hidden layer is passed to the output layer:\n",
    "\n",
    "\n",
    "$$\\mathbf{y} = \\text{softmax}(\\mathbf{a}_1W^T) $$ \n",
    "where $W$ is a matrix $d \\times |{\\cal Y}|$, $|{\\cal Y}|$ is the number of classes.\n",
    "\n",
    "During training, $\\mathbf{a}_1$ should be multiplied with a dropout mask vector (elementwise) for regularisation before it is passed to the output layer.\n",
    "\n",
    "You can extend to a deeper architecture by passing a hidden layer to another one:\n",
    "\n",
    "$$\\mathbf{h_i} = \\mathbf{a}_{i-1}W_i^T $$\n",
    "\n",
    "$$\\mathbf{a_i} = relu(\\mathbf{h_i}) $$\n",
    "\n",
    "\n",
    "\n",
    "# Network Training\n",
    "\n",
    "First we need to define the parameters of our network by initiliasing the weight matrices. For that purpose, you should implement the `network_weights` function that takes as input:\n",
    "\n",
    "- `vocab_size`: the size of the vocabulary\n",
    "- `embedding_dim`: the size of the word embeddings\n",
    "- `hidden_dim`: a list of the sizes of any subsequent hidden layers (for the Bonus). Empty if there are no hidden layers between the average embedding and the output layer \n",
    "- `num_clusses`: the number of the classes for the output layer\n",
    "\n",
    "and returns:\n",
    "\n",
    "- `W`: a dictionary mapping from layer index (e.g. 0 for the embedding matrix) to the corresponding weight matrix initialised with small random numbers (hint: use numpy.random.uniform with from -0.1 to 0.1)\n",
    "\n",
    "See the examples below for expected outputs. Make sure that the dimensionality of each weight matrix is compatible with the previous and next weight matrix, otherwise you won't be able to perform forward and backward passes. Consider also using np.float32 precision to save memory."
   ]
  },
  {
   "cell_type": "code",
   "execution_count": 177,
   "metadata": {},
   "outputs": [],
   "source": [
    "def network_weights(vocab_size=1000, embedding_dim=300, \n",
    "                    hidden_dim=[], num_classes=3, init_val = 0.5):\n",
    "    L = len(hidden_dim)+2\n",
    "    W = dict() # initialize\n",
    "    for l in range(L):\n",
    "        if l==0:\n",
    "            cur_w = np.random.uniform(-init_val,init_val,(vocab_size*embedding_dim))\n",
    "            # use np.float32 precision to save memory\n",
    "            cur_w = np.float32(cur_w)\n",
    "            W[l] = cur_w.reshape((vocab_size, embedding_dim))\n",
    "        elif l==1 and L==2:\n",
    "            cur_w = np.random.uniform(-init_val,init_val,(embedding_dim*num_classes))\n",
    "            cur_w = np.float32(cur_w)\n",
    "            W[l] = cur_w.reshape((embedding_dim, num_classes))\n",
    "        elif l==1 and L>2:\n",
    "            cur_w = np.random.uniform(-init_val,init_val,(embedding_dim*hidden_dim[0]))\n",
    "            cur_w = np.float32(cur_w)\n",
    "            W[l] = cur_w.reshape((embedding_dim, hidden_dim[0]))\n",
    "        elif l>1 and l<L-1:\n",
    "            cur_w = np.random.uniform(-init_val,init_val,(hidden_dim[l-2]*hidden_dim[l-1]))\n",
    "            cur_w = np.float32(cur_w)\n",
    "            W[l] = cur_w.reshape((hidden_dim[l-2], hidden_dim[l-1]))\n",
    "        elif l==L-1 and L>=3:\n",
    "            cur_w = np.random.uniform(-init_val,init_val,(hidden_dim[l-2]*num_classes))\n",
    "            cur_w = np.float32(cur_w)\n",
    "            W[l] = cur_w.reshape((hidden_dim[l-2], num_classes))\n",
    "    return W"
   ]
  },
  {
   "cell_type": "code",
   "execution_count": 178,
   "metadata": {
    "ExecuteTime": {
     "end_time": "2020-04-02T14:26:48.143236Z",
     "start_time": "2020-04-02T14:26:48.139381Z"
    }
   },
   "outputs": [
    {
     "name": "stdout",
     "output_type": "stream",
     "text": [
      "W_emb: (5, 10)\n",
      "W_out: (10, 2)\n"
     ]
    }
   ],
   "source": [
    "W = network_weights(vocab_size=5,embedding_dim=10,hidden_dim=[], num_classes=2)\n",
    "print('W_emb:', W[0].shape)\n",
    "print('W_out:', W[1].shape)"
   ]
  },
  {
   "cell_type": "code",
   "execution_count": 179,
   "metadata": {
    "ExecuteTime": {
     "end_time": "2020-04-02T14:26:48.636732Z",
     "start_time": "2020-04-02T14:26:48.634122Z"
    }
   },
   "outputs": [
    {
     "name": "stdout",
     "output_type": "stream",
     "text": [
      "W_emb: (3, 4)\n",
      "W_h1: (4, 2)\n",
      "W_out: (2, 2)\n"
     ]
    }
   ],
   "source": [
    "W = network_weights(vocab_size=3,embedding_dim=4,hidden_dim=[2], num_classes=2)\n",
    "print('W_emb:', W[0].shape)\n",
    "print('W_h1:', W[1].shape)\n",
    "print('W_out:', W[2].shape)"
   ]
  },
  {
   "cell_type": "code",
   "execution_count": 180,
   "metadata": {},
   "outputs": [
    {
     "data": {
      "text/plain": [
       "array([[-0.4042875 ,  0.38532683,  0.12724897,  0.22341636],\n",
       "       [-0.4838708 ,  0.09443188,  0.05678519, -0.34104034],\n",
       "       [-0.3469295 ,  0.19552954, -0.18123357,  0.19197029]],\n",
       "      dtype=float32)"
      ]
     },
     "execution_count": 180,
     "metadata": {},
     "output_type": "execute_result"
    }
   ],
   "source": [
    "W[0]"
   ]
  },
  {
   "cell_type": "markdown",
   "metadata": {
    "ExecuteTime": {
     "end_time": "2020-04-01T10:31:57.970152Z",
     "start_time": "2020-04-01T10:31:57.966123Z"
    }
   },
   "source": [
    "Then you need to develop a `softmax` function (same as in Assignment 1) to be used in the output layer. It takes as input:\n",
    "\n",
    "- `z`: array of real numbers \n",
    "\n",
    "and returns:\n",
    "\n",
    "- `sig`: the softmax of `z`"
   ]
  },
  {
   "cell_type": "code",
   "execution_count": 181,
   "metadata": {
    "ExecuteTime": {
     "end_time": "2020-04-02T14:26:50.504086Z",
     "start_time": "2020-04-02T14:26:50.500686Z"
    }
   },
   "outputs": [],
   "source": [
    "def softmax(z):\n",
    "    # use current exp(z) to divide the value of summing up all the exp(z) in the first dimension\n",
    "    max = np.max(z)\n",
    "    sig = np.exp(z-max)/np.sum(np.exp(z-max),axis=1)\n",
    "    return sig"
   ]
  },
  {
   "cell_type": "markdown",
   "metadata": {},
   "source": [
    "Now you need to implement the categorical cross entropy loss by slightly modifying the function from Assignment 1 to depend only on the true label `y` and the class probabilities vector `y_preds`:"
   ]
  },
  {
   "cell_type": "code",
   "execution_count": 182,
   "metadata": {
    "ExecuteTime": {
     "end_time": "2020-04-02T14:26:51.360838Z",
     "start_time": "2020-04-02T14:26:51.356935Z"
    }
   },
   "outputs": [],
   "source": [
    "def categorical_loss(y, y_preds):\n",
    "    # transform y_preds into one-hot form\n",
    "    m = y_preds.shape[0]\n",
    "    new_y = np.zeros([m])\n",
    "    new_y[y] = 1\n",
    "    l = np.sum(-new_y*np.log(y_preds))\n",
    "    return l"
   ]
  },
  {
   "cell_type": "code",
   "execution_count": 183,
   "metadata": {},
   "outputs": [
    {
     "name": "stdout",
     "output_type": "stream",
     "text": [
      "y_preds:  [0.01217919 0.27035308 0.24462558 0.02710529 0.44573687]\n",
      "loss: 1.40802648485675\n"
     ]
    }
   ],
   "source": [
    "# example for 5 classes\n",
    "y = 2 # true label\n",
    "y_preds = softmax(np.array([[-2.1,1.,0.9,-1.3,1.5]]))[0]\n",
    "\n",
    "print('y_preds: ',y_preds)\n",
    "print('loss:', categorical_loss(y, y_preds))"
   ]
  },
  {
   "cell_type": "markdown",
   "metadata": {
    "ExecuteTime": {
     "end_time": "2020-03-31T15:02:56.149535Z",
     "start_time": "2020-03-31T15:02:56.145738Z"
    }
   },
   "source": [
    "Then, implement the `relu` function to introduce non-linearity after each hidden layer of your network (during the forward pass): \n",
    "\n",
    "$$relu(z_i)= max(z_i,0)$$\n",
    "\n",
    "and the `relu_derivative` function to compute its derivative (used in the backward pass):\n",
    "\n",
    "\\begin{equation}\n",
    "  \\text{relu_derivative}(z_i)=\\begin{cases}\n",
    "    0, & \\text{if $z_i<=0$}.\\\\\n",
    "    1, & \\text{otherwise}.\n",
    "  \\end{cases}\n",
    "\\end{equation}\n",
    "\n",
    "Note that both functions take as input a vector $z$ \n",
    "\n",
    "Hint use .copy() to avoid in place changes in array z"
   ]
  },
  {
   "cell_type": "code",
   "execution_count": 184,
   "metadata": {
    "ExecuteTime": {
     "end_time": "2020-04-02T14:26:52.665236Z",
     "start_time": "2020-04-02T14:26:52.661519Z"
    }
   },
   "outputs": [],
   "source": [
    "def relu(z):\n",
    "    \n",
    "    cur_z = z.copy()\n",
    "    a = np.maximum(cur_z, 0)\n",
    "    \n",
    "    return a\n",
    "    \n",
    "def relu_derivative(z):\n",
    "    \n",
    "    dz = z.copy()\n",
    "    dz[dz <= 0] = 0\n",
    "    dz[dz > 0] = 1\n",
    "    \n",
    "    return dz"
   ]
  },
  {
   "cell_type": "markdown",
   "metadata": {},
   "source": [
    "During training you should also apply a dropout mask element-wise after the activation function (i.e. vector of ones with a random percentage set to zero). The `dropout_mask` function takes as input:\n",
    "\n",
    "- `size`: the size of the vector that we want to apply dropout\n",
    "- `dropout_rate`: the percentage of elements that will be randomly set to zeros\n",
    "\n",
    "and returns:\n",
    "\n",
    "- `dropout_vec`: a vector with binary values (0 or 1)"
   ]
  },
  {
   "cell_type": "code",
   "execution_count": 185,
   "metadata": {
    "ExecuteTime": {
     "end_time": "2020-04-02T14:26:53.429192Z",
     "start_time": "2020-04-02T14:26:53.425301Z"
    }
   },
   "outputs": [],
   "source": [
    "def dropout_mask(size, dropout_rate):\n",
    "    # initialize dropout_vec by one\n",
    "    dropout_vec = np.ones(size)\n",
    "    # get the number of one\n",
    "    pos = int(size*dropout_rate)\n",
    "    dropout_vec[:pos] = 0\n",
    "    np.random.shuffle(dropout_vec)\n",
    "    \n",
    "    return dropout_vec\n",
    "    "
   ]
  },
  {
   "cell_type": "code",
   "execution_count": 186,
   "metadata": {
    "ExecuteTime": {
     "end_time": "2020-04-02T14:26:53.853632Z",
     "start_time": "2020-04-02T14:26:53.849944Z"
    }
   },
   "outputs": [
    {
     "name": "stdout",
     "output_type": "stream",
     "text": [
      "[1. 1. 1. 1. 0. 1. 0. 1. 1. 1.]\n",
      "[1. 1. 1. 1. 1. 0. 1. 0. 1. 1.]\n"
     ]
    }
   ],
   "source": [
    "print(dropout_mask(10, 0.2))\n",
    "print(dropout_mask(10, 0.2))"
   ]
  },
  {
   "cell_type": "markdown",
   "metadata": {},
   "source": [
    "Now you need to implement the `forward_pass` function that passes the input x through the network up to the output layer for computing the probability for each class using the weight matrices in `W`. The ReLU activation function should be applied on each hidden layer. \n",
    "\n",
    "- `x`: a list of vocabulary indices each corresponding to a word in the document (input)\n",
    "- `W`: a list of weight matrices connecting each part of the network, e.g. for a network with a hidden and an output layer: W[0] is the weight matrix that connects the input to the first hidden layer, W[1] is the weight matrix that connects the hidden layer to the output layer.\n",
    "- `dropout_rate`: the dropout rate that is used to generate a random dropout mask vector applied after each hidden layer for regularisation.\n",
    "\n",
    "and returns:\n",
    "\n",
    "- `out_vals`: a dictionary of output values from each layer: h (the vector before the activation function), a (the resulting vector after passing h from the activation function), its dropout mask vector; and the prediction vector (probability for each class) from the output layer."
   ]
  },
  {
   "cell_type": "code",
   "execution_count": 187,
   "metadata": {
    "ExecuteTime": {
     "end_time": "2020-04-02T14:26:54.761268Z",
     "start_time": "2020-04-02T14:26:54.753402Z"
    }
   },
   "outputs": [],
   "source": [
    "def forward_pass(x, W, dropout_rate=0.2):\n",
    "    \n",
    "    out_vals = {}\n",
    "    voc_size = W[0].shape[0]\n",
    "    # transform x into one-hot form\n",
    "    hot_vector = np.zeros(voc_size)\n",
    "    for i in x:\n",
    "        hot_vector[i] = 1\n",
    "\n",
    "    h_vecs = []\n",
    "    a_vecs = []\n",
    "    dropout_vecs = []\n",
    "    \n",
    "    L = len(W)\n",
    "    for i in range(L):\n",
    "        # the first layer is embedding layer, so I can get the h by hot_vector*W[i]\n",
    "        if i == 0:\n",
    "            h = np.dot(hot_vector, W[i])/len(x)\n",
    "            h = np.float32(h)\n",
    "        else:\n",
    "            # get the deriviation of h\n",
    "            a = relu(h)\n",
    "            a = np.float32(a)\n",
    "            a_vecs.append(a)\n",
    "            dropout = dropout_mask(a.shape[0],dropout_rate)\n",
    "            dropout_vecs.append(dropout)\n",
    "            # drop out some values in a\n",
    "            h = np.dot(a*dropout,W[i])\n",
    "            h = np.float32(h)\n",
    "        if i < L-1:\n",
    "            h_vecs.append(h)\n",
    "        else:\n",
    "            # save the last h value\n",
    "            h_last = h\n",
    "    \n",
    "    h_last = h_last.reshape(1,h_last.shape[0])\n",
    "    # get the prediction of label\n",
    "    y_val = softmax(h_last)[0]\n",
    "            \n",
    "    out_vals['h'] = h_vecs\n",
    "    out_vals['a'] = a_vecs\n",
    "    out_vals['dropout_vec'] = dropout_vecs\n",
    "    out_vals['y'] = y_val\n",
    "    \n",
    "    return out_vals\n",
    "    "
   ]
  },
  {
   "cell_type": "code",
   "execution_count": 188,
   "metadata": {},
   "outputs": [
    {
     "name": "stdout",
     "output_type": "stream",
     "text": [
      "Shape W0 (3, 4)\n",
      "Shape W1 (4, 5)\n",
      "Shape W2 (5, 2)\n",
      "\n",
      "{'h': [array([-0.04668263, -0.12518334,  0.17532286, -0.32932055], dtype=float32), array([-0.01851934,  0.04051239, -0.05942235,  0.01765476,  0.0641444 ],\n",
      "      dtype=float32)], 'a': [array([0.        , 0.        , 0.17532286, 0.        ], dtype=float32), array([0.        , 0.04051239, 0.        , 0.01765476, 0.0641444 ],\n",
      "      dtype=float32)], 'dropout_vec': [array([1., 0., 1., 0.]), array([0., 0., 1., 1., 1.])], 'y': array([0.48946732, 0.5105327 ], dtype=float32)}\n"
     ]
    }
   ],
   "source": [
    "W = network_weights(vocab_size=3,embedding_dim=4,hidden_dim=[5], num_classes=2)\n",
    "\n",
    "for i in range(len(W)):\n",
    "    print('Shape W'+str(i), W[i].shape)\n",
    "\n",
    "print()\n",
    "print(forward_pass([2,1], W, dropout_rate=0.5))"
   ]
  },
  {
   "cell_type": "markdown",
   "metadata": {},
   "source": [
    "The `backward_pass` function computes the gradients and update the weights for each matrix in the network from the output to the input. It takes as input \n",
    "\n",
    "- `x`: a list of vocabulary indices each corresponding to a word in the document (input)\n",
    "- `y`: the true label\n",
    "- `W`: a list of weight matrices connecting each part of the network, e.g. for a network with a hidden and an output layer: W[0] is the weight matrix that connects the input to the first hidden layer, W[1] is the weight matrix that connects the hidden layer to the output layer.\n",
    "- `out_vals`: a dictionary of output values from a forward pass.\n",
    "- `learning_rate`: the learning rate for updating the weights.\n",
    "- `freeze_emb`: boolean value indicating whether the embedding weights will be updated.\n",
    "\n",
    "and returns:\n",
    "\n",
    "- `W`: the updated weights of the network.\n",
    "\n",
    "Hint: the gradients on the output layer are similar to the multiclass logistic regression."
   ]
  },
  {
   "cell_type": "code",
   "execution_count": 189,
   "metadata": {
    "ExecuteTime": {
     "end_time": "2020-04-02T14:26:56.225630Z",
     "start_time": "2020-04-02T14:26:56.216508Z"
    }
   },
   "outputs": [],
   "source": [
    "def backward_pass(x, y, W, out_vals, lr=0.001, freeze_emb=False):\n",
    "    y_preds = out_vals['y']\n",
    "    m = y_preds.shape[0]\n",
    "    new_y = np.zeros([m])\n",
    "    new_y[y] = 1\n",
    "    L = len(W)\n",
    "    for l in reversed(range(1, L)):\n",
    "        if l == L-1:\n",
    "            # the derivation loss with respect to h equals y's prediction value minus y in the last layer\n",
    "            g = y_preds - new_y\n",
    "        else:\n",
    "            h = out_vals['h'][l]\n",
    "            g = g*relu_derivative(h)\n",
    "        if len(g.shape) == 1:\n",
    "            g_size = g.shape[0]\n",
    "            g = g.reshape(-1,g_size)\n",
    "        a = out_vals['a'][l-1]\n",
    "        # drop out some values\n",
    "        a = a*out_vals['dropout_vec'][l-1]\n",
    "        a_size = a.shape[0]\n",
    "        a = a.reshape(-1,a_size)\n",
    "        W[l] = W[l] - np.dot(a.T,g)*lr\n",
    "        g = np.dot(g, W[l].T)\n",
    "    # update w0\n",
    "    if not freeze_emb:\n",
    "        h = out_vals['h'][0]\n",
    "        g = g*relu_derivative(h)\n",
    "        voc_size = W[0].shape[0]\n",
    "        hot_vector = np.zeros(voc_size)\n",
    "        for i in x:\n",
    "            hot_vector[i] = 1\n",
    "        hot_vector_size = hot_vector.shape[0]\n",
    "        hot_vector = hot_vector.reshape(-1,hot_vector_size)\n",
    "        W[0] = W[0] - np.dot(hot_vector.T,g)*lr/len(x)\n",
    "        \n",
    "    return W"
   ]
  },
  {
   "cell_type": "markdown",
   "metadata": {
    "ExecuteTime": {
     "end_time": "2020-02-15T14:08:59.937442Z",
     "start_time": "2020-02-15T14:08:59.932221Z"
    }
   },
   "source": [
    "Finally you need to modify SGD to support back-propagation by using the `forward_pass` and `backward_pass` functions.\n",
    "\n",
    "The `SGD` function takes as input:\n",
    "\n",
    "- `X_tr`: array of training data (vectors)\n",
    "- `Y_tr`: labels of `X_tr`\n",
    "- `W`: the weights of the network (dictionary)\n",
    "- `X_dev`: array of development (i.e. validation) data (vectors)\n",
    "- `Y_dev`: labels of `X_dev`\n",
    "- `lr`: learning rate\n",
    "- `dropout`: regularisation strength\n",
    "- `epochs`: number of full passes over the training data\n",
    "- `tolerance`: stop training if the difference between the current and previous validation loss is smaller than a threshold\n",
    "- `freeze_emb`: boolean value indicating whether the embedding weights will be updated (to be used by the backward pass function).\n",
    "- `print_progress`: flag for printing the training progress (train/validation loss)\n",
    "\n",
    "\n",
    "and returns:\n",
    "\n",
    "- `weights`: the weights learned\n",
    "- `training_loss_history`: an array with the average losses of the whole training set after each epoch\n",
    "- `validation_loss_history`: an array with the average losses of the whole development set after each epoch"
   ]
  },
  {
   "cell_type": "code",
   "execution_count": 265,
   "metadata": {
    "ExecuteTime": {
     "end_time": "2020-04-02T15:09:19.021428Z",
     "start_time": "2020-04-02T15:09:19.017835Z"
    }
   },
   "outputs": [],
   "source": [
    "def SGD(X_tr, Y_tr, W, X_dev=[], Y_dev=[], lr=0.001, \n",
    "        dropout=0.2, epochs=5, tolerance=0.001, freeze_emb=False, print_progress=True):\n",
    "    # transform original train and validation data sets' labels by minusing one\n",
    "    Y_tr_new=Y_tr-1\n",
    "    Y_dev_new=Y_dev-1\n",
    "    training_loss_history = []\n",
    "    validation_loss_history = []\n",
    "    # get average loss of all documents\n",
    "    def getAverageLoss(X, Y, W, dropout):\n",
    "        loss_init = 0\n",
    "        for i, x in enumerate(X):\n",
    "            out_vals = forward_pass(x, W, dropout)\n",
    "            loss_init += categorical_loss(int(Y[i]), out_vals['y'])\n",
    "        loss = loss_init/len(X)\n",
    "        return loss\n",
    "    loss_dev = getAverageLoss(X_dev, Y_dev_new, W, dropout)\n",
    "    \n",
    "    X_tr = np.array(X_tr)\n",
    "    X_dev = np.array(X_dev)\n",
    "    \n",
    "    for e in range(epochs):\n",
    "        shuffle_indices = np.random.permutation(np.arange(len(X_tr))) \n",
    "        X_tr = X_tr[shuffle_indices]\n",
    "        Y_tr_new = Y_tr_new[shuffle_indices]\n",
    "        # update weights after each iteration\n",
    "        for i,x in enumerate(X_tr):\n",
    "            out_vals_tr = forward_pass(x, W, dropout)\n",
    "            W = backward_pass(x, Y_tr_new[i], W, out_vals_tr, lr, freeze_emb)\n",
    "        loss_tr = getAverageLoss(X_tr, Y_tr_new, W, dropout)\n",
    "        training_loss_history.append(loss_tr)\n",
    "        loss_cur = getAverageLoss(X_dev, Y_dev_new, W, dropout)\n",
    "        validation_loss_history.append(loss_cur)\n",
    "        if print_progress:\n",
    "            print('Epoch: %d| Training loss: %f | Validation loss: %f'%(e,loss_tr,loss_cur))\n",
    "        if loss_dev - loss_cur < tolerance:\n",
    "            print('diff',loss_dev - loss_cur)\n",
    "            break\n",
    "        loss_dev = loss_cur\n",
    "    \n",
    "    weights = W\n",
    "    training_loss_history = np.array(training_loss_history)\n",
    "    validation_loss_history = np.array(validation_loss_history)\n",
    "\n",
    "    return weights, training_loss_history, validation_loss_history"
   ]
  },
  {
   "cell_type": "markdown",
   "metadata": {
    "ExecuteTime": {
     "end_time": "2020-02-15T14:10:15.772383Z",
     "start_time": "2020-02-15T14:10:15.767855Z"
    }
   },
   "source": [
    "Now you are ready to train and evaluate you neural net. First, you need to define your network using the `network_weights` function followed by SGD with backprop:"
   ]
  },
  {
   "cell_type": "code",
   "execution_count": 303,
   "metadata": {
    "ExecuteTime": {
     "end_time": "2020-04-02T15:09:33.643515Z",
     "start_time": "2020-04-02T15:09:33.640943Z"
    }
   },
   "outputs": [
    {
     "name": "stdout",
     "output_type": "stream",
     "text": [
      "Shape W0 (8931, 50)\n",
      "Shape W1 (50, 3)\n",
      "Epoch: 0| Training loss: 0.941079 | Validation loss: 1.006699\n",
      "Epoch: 1| Training loss: 0.573800 | Validation loss: 0.718850\n",
      "Epoch: 2| Training loss: 0.359063 | Validation loss: 0.506547\n",
      "Epoch: 3| Training loss: 0.258170 | Validation loss: 0.450944\n",
      "Epoch: 4| Training loss: 0.180362 | Validation loss: 0.388115\n",
      "Epoch: 5| Training loss: 0.136029 | Validation loss: 0.376131\n",
      "Epoch: 6| Training loss: 0.104143 | Validation loss: 0.357147\n",
      "Epoch: 7| Training loss: 0.084535 | Validation loss: 0.368622\n",
      "diff -0.011474977992245783\n"
     ]
    }
   ],
   "source": [
    "W_default = network_weights(vocab_size=len(vocab),embedding_dim=50,hidden_dim=[], num_classes=3)\n",
    "\n",
    "for i in range(len(W_default)):\n",
    "    print('Shape W'+str(i), W_default[i].shape)\n",
    "\n",
    "W_output, tr_loss, dev_loss = SGD(X_tr, Y_tr,\n",
    "                            W_default,\n",
    "                            X_dev=X_dev, \n",
    "                            Y_dev=Y_dev,\n",
    "                            lr=0.1, \n",
    "                            dropout=0.1,\n",
    "                            freeze_emb=False,\n",
    "                            tolerance=0.01,\n",
    "                            epochs=10)"
   ]
  },
  {
   "cell_type": "markdown",
   "metadata": {},
   "source": [
    "Plot the learning process:"
   ]
  },
  {
   "cell_type": "code",
   "execution_count": 304,
   "metadata": {
    "ExecuteTime": {
     "end_time": "2020-04-02T14:27:15.716497Z",
     "start_time": "2020-04-02T14:27:15.612736Z"
    }
   },
   "outputs": [
    {
     "data": {
      "image/png": "[encoded data removed]",
      "text/plain": [
       "<Figure size 432x288 with 1 Axes>"
      ]
     },
     "metadata": {
      "needs_background": "light"
     },
     "output_type": "display_data"
    }
   ],
   "source": [
    "import matplotlib.pyplot as plt\n",
    "cur_size = tr_loss.shape[0]\n",
    "x_axix = np.linspace(0,cur_size-1,num = cur_size)\n",
    "plt.title('Training Monitering')\n",
    "plt.plot(x_axix, tr_loss, color='green', label='training loss')\n",
    "plt.plot(x_axix, dev_loss, color='skyblue', label='validation loss')\n",
    "plt.legend()\n",
    "plt.xlabel('Epochs')\n",
    "plt.ylabel('Loss')\n",
    "plt.show()"
   ]
  },
  {
   "cell_type": "markdown",
   "metadata": {},
   "source": [
    "Compute accuracy, precision, recall and F1-Score:"
   ]
  },
  {
   "cell_type": "code",
   "execution_count": 305,
   "metadata": {
    "ExecuteTime": {
     "end_time": "2020-04-02T15:10:11.037495Z",
     "start_time": "2020-04-02T15:10:11.034999Z"
    }
   },
   "outputs": [],
   "source": [
    "def accuracy_score(Y_te,Y_predict):\n",
    "    # calculate the number of predictions are right\n",
    "    result_arr = Y_te == Y_predict\n",
    "    right_num = sum(result_arr==True)\n",
    "    accuracy_score = right_num/Y_te.shape[0]\n",
    "    return accuracy_score\n",
    "\n",
    "def precision_score(Y_te,Y_predict,average):\n",
    "    ps = 0\n",
    "    # get precision score for each class and sum up them\n",
    "    if (average == 'macro'):\n",
    "        for i in range(3):\n",
    "            P = Y_te[Y_te == Y_predict] == i\n",
    "            total = Y_predict == i\n",
    "            P_num = sum(P==True)\n",
    "            total_num = sum(total==True)\n",
    "            ps += P_num/total_num\n",
    "    # get average precision score\n",
    "    precision_score = ps/3\n",
    "    return precision_score\n",
    "\n",
    "def recall_score(Y_te,Y_predict,average):\n",
    "    rs = 0\n",
    "    # get recall value for each class and sum up them\n",
    "    if (average == 'macro'):\n",
    "        for i in range(3):\n",
    "            P = Y_te[Y_te == Y_predict] == i\n",
    "            total = Y_te == i\n",
    "            P_num = sum(P==True)\n",
    "            total_num = sum(total==True)\n",
    "            rs += P_num/total_num\n",
    "    # get average recall score\n",
    "    recall_score = rs/3\n",
    "    return recall_score\n",
    "\n",
    "def f1_score(Y_te,Y_predict,average):\n",
    "    PS = precision_score(Y_te,Y_predict,average)\n",
    "    CS = recall_score(Y_te,Y_predict,average)\n",
    "    f1_score = 2*PS*CS/(PS+CS)\n",
    "    return f1_score"
   ]
  },
  {
   "cell_type": "code",
   "execution_count": 306,
   "metadata": {},
   "outputs": [
    {
     "name": "stdout",
     "output_type": "stream",
     "text": [
      "Accuracy: 0.8477777777777777\n",
      "Precision: 0.8500011764383425\n",
      "Recall: 0.8477777777777779\n",
      "F1-Score: 0.8488880212349055\n"
     ]
    }
   ],
   "source": [
    "Y_test_trans = Y_test - 1\n",
    "preds_te = np.array([np.argmax(forward_pass(x, W_output, dropout_rate=0.0)['y']) for x,y in zip(X_test,Y_test)])\n",
    "print('Accuracy:', accuracy_score(Y_test_trans,preds_te))\n",
    "print('Precision:', precision_score(Y_test_trans,preds_te, average='macro'))\n",
    "print('Recall:', recall_score(Y_test_trans,preds_te, average='macro'))\n",
    "print('F1-Score:', f1_score(Y_test_trans,preds_te, average='macro'))"
   ]
  },
  {
   "cell_type": "code",
   "execution_count": 328,
   "metadata": {},
   "outputs": [],
   "source": [
    "del W_output"
   ]
  },
  {
   "cell_type": "markdown",
   "metadata": {},
   "source": [
    "### Discuss how did you choose model hyperparameters ? "
   ]
  },
  {
   "cell_type": "markdown",
   "metadata": {},
   "source": [
    "A: set the dropout 0.1 and lr 0.1 with different embedding_dims, we can get the following results\n",
    "\n",
    "| embedding_dim | 50 | 300 | 500\n",
    "|:-:|:-:|:-:|:-:|\n",
    "| F1-score | 0.8488 | 0.8295 | 0.8323\n",
    "| Training loss | 0.0845 | 0.1206 | 0.2502\n",
    "| Validation loss | 0.3686 | 0.3719 | 0.3428\n",
    "| Epochs | 8 | 5 | 7\n",
    "\n",
    "From table A, we can find when embedding_dims is 50, the F1-score has the highest value and the loss is the smallest.\n",
    "\n",
    "B: set the embedding_dim 50 and lr 0.1 with different dropouts, we can get the following results\n",
    "\n",
    "| dropout | 0.1 | 0.2 | 0.5\n",
    "|:-:|:-:|:-:|:-:|\n",
    "| F1-score | 0.8488 | 0.8349 | 0.8470\n",
    "| Training loss | 0.0845 | 0.1053 | 0.2933\n",
    "| Validation loss | 0.3686 | 0.3986 | 0.5124\n",
    "| Epochs | 8 | 6 | 7\n",
    "\n",
    "From table B, we can find when dropout is 0.1, the F1-score has the highest value and the loss is the smallest.\n",
    "\n",
    "C: set the embedding_dim 50 and dropout 0.1 with different learningrates, we can get the following results\n",
    "\n",
    "| lr | 0.1 | 0.05 | 0.01\n",
    "|:-:|:-:|:-:|:-:|\n",
    "| F1-score | 0.8488 | 0.8179 | 0.7943\n",
    "| Training loss | 0.0845 | 0.1475 | 0.5051\n",
    "| Validation loss | 0.3686 | 0.4022 | 0.6604\n",
    "| Epochs | 8 | 11 | 23\n",
    "\n",
    "From table C, we can find when learningrate is 0.1, the F1-score has the highest value, the loss is the smallest and the training time is shortest.\n",
    "\n",
    "So, I choose embedding_dim 50, dropout 0.1 and lr 0.1 as my model hyperparameters.\n",
    "  "
   ]
  },
  {
   "cell_type": "markdown",
   "metadata": {},
   "source": [
    "# Use Pre-trained Embeddings\n",
    "\n",
    "Now re-train the network using GloVe pre-trained embeddings. You need to modify the `backward_pass` function above to stop computing gradients and updating weights of the embedding matrix.\n",
    "\n",
    "Use the function below to obtain the embedding martix for your vocabulary."
   ]
  },
  {
   "cell_type": "code",
   "execution_count": 198,
   "metadata": {
    "ExecuteTime": {
     "end_time": "2020-04-02T14:27:32.020697Z",
     "start_time": "2020-04-02T14:27:32.015733Z"
    }
   },
   "outputs": [],
   "source": [
    "def get_glove_embeddings(f_zip, f_txt, word2id, emb_size=300):\n",
    "    \n",
    "    w_emb = np.zeros((len(word2id), emb_size))\n",
    "    \n",
    "    with zipfile.ZipFile(f_zip) as z:\n",
    "        with z.open(f_txt) as f:\n",
    "            for line in f:\n",
    "                line = line.decode('utf-8')\n",
    "                word = line.split()[0]\n",
    "                     \n",
    "                if word in vocab:\n",
    "                    emb = np.array(line.strip('\\n').split()[1:]).astype(np.float32)\n",
    "                    w_emb[word2id[word]] +=emb\n",
    "    return w_emb"
   ]
  },
  {
   "cell_type": "code",
   "execution_count": 199,
   "metadata": {
    "ExecuteTime": {
     "end_time": "2020-04-02T14:28:54.548613Z",
     "start_time": "2020-04-02T14:27:32.780248Z"
    }
   },
   "outputs": [],
   "source": [
    "w_glove = get_glove_embeddings(\"glove.840B.300d.zip\",\"glove.840B.300d.txt\",vocab_dict)"
   ]
  },
  {
   "cell_type": "markdown",
   "metadata": {},
   "source": [
    "First, initialise the weights of your network using the `network_weights` function. Second, replace the weigths of the embedding matrix with `w_glove`. Finally, train the network by freezing the embedding weights: "
   ]
  },
  {
   "cell_type": "code",
   "execution_count": 200,
   "metadata": {},
   "outputs": [],
   "source": [
    "W_init = network_weights(vocab_size=len(vocab),embedding_dim=300,hidden_dim=[], num_classes=3)\n",
    "W_init[0] = w_glove"
   ]
  },
  {
   "cell_type": "code",
   "execution_count": 286,
   "metadata": {
    "ExecuteTime": {
     "end_time": "2020-04-02T14:30:11.121198Z",
     "start_time": "2020-04-02T14:29:24.946124Z"
    }
   },
   "outputs": [
    {
     "name": "stdout",
     "output_type": "stream",
     "text": [
      "Epoch: 0| Training loss: 0.252009 | Validation loss: 0.185713\n",
      "diff 0.007186897656574737\n"
     ]
    }
   ],
   "source": [
    "W_output_glove, tr_loss_glove, dev_loss_glove = SGD(X_tr, Y_tr,\n",
    "                            W_init,\n",
    "                            X_dev=X_dev, \n",
    "                            Y_dev=Y_dev,\n",
    "                            lr=0.1, \n",
    "                            dropout=0.1,\n",
    "                            freeze_emb=True,\n",
    "                            tolerance=0.01,\n",
    "                            epochs=10)"
   ]
  },
  {
   "cell_type": "code",
   "execution_count": 287,
   "metadata": {
    "ExecuteTime": {
     "end_time": "2020-04-02T15:12:00.815184Z",
     "start_time": "2020-04-02T15:12:00.812563Z"
    }
   },
   "outputs": [
    {
     "name": "stdout",
     "output_type": "stream",
     "text": [
      "Accuracy: 0.8922222222222222\n",
      "Precision: 0.8925441267947978\n",
      "Recall: 0.8922222222222222\n",
      "F1-Score: 0.8923831454787846\n"
     ]
    }
   ],
   "source": [
    "preds_te_glove = np.array([np.argmax(forward_pass(x, W_output_glove, dropout_rate=0.0)['y']) for x,y in zip(X_test,Y_test)])\n",
    "print('Accuracy:', accuracy_score(Y_test_trans,preds_te_glove))\n",
    "print('Precision:', precision_score(Y_test_trans,preds_te_glove,average='macro'))\n",
    "print('Recall:', recall_score(Y_test_trans,preds_te_glove,average='macro'))\n",
    "print('F1-Score:', f1_score(Y_test_trans,preds_te_glove,average='macro'))"
   ]
  },
  {
   "cell_type": "code",
   "execution_count": 329,
   "metadata": {},
   "outputs": [],
   "source": [
    "del W_output_glove"
   ]
  },
  {
   "cell_type": "markdown",
   "metadata": {},
   "source": [
    "### Discuss how did you choose model hyperparameters ? "
   ]
  },
  {
   "cell_type": "markdown",
   "metadata": {},
   "source": [
    "A: set lr 0.1 with different dropouts, we can get the following results\n",
    "\n",
    "| dropout | 0.1 | 0.2 | 0.5\n",
    "|:-:|:-:|:-:|:-:|\n",
    "| F1-score | 0.8923 | 0.8881 | 0.8716\n",
    "| Training loss | 0.2520 | 0.3212 | 0.4205\n",
    "| Validation loss | 0.1857 | 0.2347 | 0.3528\n",
    "| Epochs | 1 | 1 | 2\n",
    "\n",
    "From table A, we can find when dropout is 0.1, the F1-score has the highest value and the loss is the smallest.\n",
    "\n",
    "B: set dropout 0.1 with different learningrates, we can get the following results\n",
    "\n",
    "| lr | 0.1 | 0.05 | 0.01\n",
    "|:-:|:-:|:-:|:-:|\n",
    "| F1-score | 0.8923 | 0.8808 | 0.8848\n",
    "| Training loss | 0.2520 | 0.2316 | 0.2238\n",
    "| Validation loss | 0.1857 | 0.1917 | 0.1953\n",
    "| Epochs | 1 | 2 | 1\n",
    "\n",
    "From table B, we can find when learningrate is 0.1, the F1-score has the highest value and the loss is the smallest.\n",
    "\n",
    "So, I choose dropout 0.1 and lr 0.1 as my model hyperparameters while the embedding_dim is 300\n",
    "  "
   ]
  },
  {
   "cell_type": "markdown",
   "metadata": {},
   "source": [
    "# Extend to support deeper architectures (Bonus)\n",
    "\n",
    "Extend the network to support back-propagation for more hidden layers. You need to modify the `backward_pass` function above to compute gradients and update the weights between intermediate hidden layers. Finally, train and evaluate a network with a deeper architecture. "
   ]
  },
  {
   "cell_type": "code",
   "execution_count": 326,
   "metadata": {
    "ExecuteTime": {
     "end_time": "2020-04-02T14:58:51.764619Z",
     "start_time": "2020-04-02T14:58:47.483690Z"
    }
   },
   "outputs": [
    {
     "name": "stdout",
     "output_type": "stream",
     "text": [
      "Epoch: 0| Training loss: 0.215414 | Validation loss: 0.199464\n",
      "Epoch: 1| Training loss: 0.219930 | Validation loss: 0.190338\n",
      "diff 0.009125311570860495\n"
     ]
    }
   ],
   "source": [
    "W_deep = network_weights(vocab_size=len(vocab),embedding_dim=300,hidden_dim=[50, 10], num_classes=3)\n",
    "W_deep[0] = w_glove\n",
    "W_output_deep, tr_loss_deep, dev_loss_deep = SGD(X_tr, Y_tr,\n",
    "                            W_init,\n",
    "                            X_dev=X_dev, \n",
    "                            Y_dev=Y_dev,\n",
    "                            lr=0.1, \n",
    "                            dropout=0.1,\n",
    "                            freeze_emb=True,\n",
    "                            tolerance=0.01,\n",
    "                            epochs=10)"
   ]
  },
  {
   "cell_type": "code",
   "execution_count": 327,
   "metadata": {
    "ExecuteTime": {
     "end_time": "2020-04-02T15:11:51.994986Z",
     "start_time": "2020-04-02T15:11:51.992563Z"
    }
   },
   "outputs": [
    {
     "name": "stdout",
     "output_type": "stream",
     "text": [
      "Accuracy: 0.8844444444444445\n",
      "Precision: 0.8843620145064189\n",
      "Recall: 0.8844444444444445\n",
      "F1-Score: 0.8844032275547312\n"
     ]
    }
   ],
   "source": [
    "preds_te_deep = np.array([np.argmax(forward_pass(x, W_output_deep, dropout_rate=0.0)['y']) for x,y in zip(X_test,Y_test)])\n",
    "print('Accuracy:', accuracy_score(Y_test_trans,preds_te_deep))\n",
    "print('Precision:', precision_score(Y_test_trans,preds_te_deep,average='macro'))\n",
    "print('Recall:', recall_score(Y_test_trans,preds_te_deep,average='macro'))\n",
    "print('F1-Score:', f1_score(Y_test_trans,preds_te_deep,average='macro'))"
   ]
  },
  {
   "cell_type": "code",
   "execution_count": 331,
   "metadata": {},
   "outputs": [],
   "source": [
    "del W_output_deep"
   ]
  },
  {
   "cell_type": "markdown",
   "metadata": {},
   "source": [
    "## Full Results\n",
    "\n",
    "Add your final results here:\n",
    "\n",
    "| Model | Precision  | Recall  | F1-Score  | Accuracy\n",
    "|:-:|:-:|:-:|:-:|:-:|\n",
    "| Average Embedding  | 0.8500 | 0.8477 | 0.8488 | 0.8477 |\n",
    "| Average Embedding (Pre-trained)  | 0.8925 |0.8922 | 0.8923 | 0.8922 |\n",
    "| Average Embedding (Pre-trained) + X hidden layers (BONUS)   | 0.8843 | 0.8844 | 0.8844 | 0.8844 |\n"
   ]
  }
 ],
 "metadata": {
  "kernelspec": {
   "display_name": "Python 3",
   "language": "python",
   "name": "python3"
  },
  "language_info": {
   "codemirror_mode": {
    "name": "ipython",
    "version": 3
   },
   "file_extension": ".py",
   "mimetype": "text/x-python",
   "name": "python",
   "nbconvert_exporter": "python",
   "pygments_lexer": "ipython3",
   "version": "3.7.4"
  }
 },
 "nbformat": 4,
 "nbformat_minor": 2
}
